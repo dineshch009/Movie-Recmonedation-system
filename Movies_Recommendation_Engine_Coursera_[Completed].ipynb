{
 "cells": [
  {
   "cell_type": "markdown",
   "metadata": {
    "colab_type": "text",
    "id": "u_0oQaUOA9CI"
   },
   "source": [
    "# Task 1: Introduction\n",
    "\n",
    "![Movies Collage](https://i.imgur.com/T7V0VZ6.png)\n",
    "\n",
    "For this project we are going to create a recommendation engine for movies for users based on there past behaviour.\n",
    "\n",
    "---\n",
    "\n",
    "We will focus on the **collaborative filtering** approach, that is: \n",
    "\n",
    "The user is recommended items that people with similar tastes and preferences liked in the past. In another word, this method predicts unknown ratings by using the similarities between users.\n",
    "\n",
    "---\n",
    "\n",
    "Note: This notebook uses `python 3` and these packages: `pandas`, `numpy`, `matplotlib` and `scikit-surprise`\n",
    "\n",
    "We can install them using:\n",
    "```Shell\n",
    "pip3 install pandas matplotlib numpy scikit-surprise\n",
    "```"
   ]
  },
  {
   "cell_type": "markdown",
   "metadata": {
    "colab_type": "text",
    "id": "eMZcgcQsm-9y"
   },
   "source": [
    "## 1.1: Installing Libraries"
   ]
  },
  {
   "cell_type": "code",
   "execution_count": null,
   "metadata": {
    "colab": {
     "base_uri": "https://localhost:8080/",
     "height": 252
    },
    "colab_type": "code",
    "id": "HNmYMKhCnITm",
    "outputId": "9897054c-43a8-4add-ecc2-72caf4da5271"
   },
   "outputs": [],
   "source": [
    "print('>> Installing Libraries')\n",
    "\n",
    "!pip3 install pandas matplotlib numpy scikit-surprise\n",
    "\n",
    "print('>> Libraries Installed')"
   ]
  },
  {
   "cell_type": "markdown",
   "metadata": {
    "colab_type": "text",
    "id": "FYwbN6KqJjPo"
   },
   "source": [
    "## 1.2: Importing Libraries\n",
    "\n",
    "First of all, we will need to import some libraries. This includes surprise which we will use to create the recommendation system."
   ]
  },
  {
   "cell_type": "code",
   "execution_count": null,
   "metadata": {
    "colab": {
     "base_uri": "https://localhost:8080/",
     "height": 50
    },
    "colab_type": "code",
    "id": "5OGYBAjxAzLC",
    "outputId": "54fde954-4f5c-421b-d6e2-341ef13b6fa8"
   },
   "outputs": [],
   "source": [
    "print('>> Importing Libraries')\n",
    "\n",
    "import pandas as pd\n",
    "\n",
    "from surprise import Reader, Dataset, SVD\n",
    "\n",
    "from surprise.accuracy import rmse, mae\n",
    "from surprise.model_selection import cross_validate\n",
    "\n",
    "print('>> Libraries imported.')"
   ]
  },
  {
   "cell_type": "markdown",
   "metadata": {
    "colab_type": "text",
    "id": "Zg9d8GR6A_rr"
   },
   "source": [
    "# Task 2: Importing Data\n",
    "\n",
    "We will use open-source dataset from GroupLens Research ([movielens.org](http://movielens.org))"
   ]
  },
  {
   "cell_type": "markdown",
   "metadata": {
    "colab_type": "text",
    "id": "vS0k5tdWKSfZ"
   },
   "source": [
    "## 2.1: Importing the Data\n",
    "\n",
    "The dataset is saved in a `ratings.csv` file. We will use pandas to take a look at some of the rows."
   ]
  },
  {
   "cell_type": "code",
   "execution_count": null,
   "metadata": {
    "colab": {
     "base_uri": "https://localhost:8080/",
     "height": 195
    },
    "colab_type": "code",
    "id": "3lbOmdPwKsPm",
    "outputId": "e525b379-82b1-4820-cdf5-e5c903cde1aa"
   },
   "outputs": [],
   "source": [
    "df = pd.read_csv (\"ratings.csv\")\n",
    "df.head()"
   ]
  },
  {
   "cell_type": "markdown",
   "metadata": {
    "colab_type": "text",
    "id": "GvUhDQIgLOEY"
   },
   "source": [
    "## 2.2 Dropping timestamp\n",
    "\n",
    "We won't be using the timestamp when user gave the particular rating. So we will drop that column."
   ]
  },
  {
   "cell_type": "code",
   "execution_count": null,
   "metadata": {
    "colab": {
     "base_uri": "https://localhost:8080/",
     "height": 195
    },
    "colab_type": "code",
    "id": "TXvWh3duLjiP",
    "outputId": "47e60d89-b40a-4411-a837-d5c32503427c"
   },
   "outputs": [],
   "source": [
    "df.drop('timestamp', axis=1, inplace=True)\n",
    "df.head()"
   ]
  },
  {
   "cell_type": "markdown",
   "metadata": {
    "colab_type": "text",
    "id": "OPEBn0gAK-5m"
   },
   "source": [
    "## 2.3 Check for Missing Data\n",
    "\n",
    "It's a good practice to check if the data has any missing values. In real world data, this is quite common and must be taken care of before any data pre-processing or model training."
   ]
  },
  {
   "cell_type": "code",
   "execution_count": null,
   "metadata": {
    "colab": {
     "base_uri": "https://localhost:8080/",
     "height": 84
    },
    "colab_type": "code",
    "id": "BfBqk7KkLFV6",
    "outputId": "94f9c7f7-6f9f-4ab5-9c08-0548e96b29ce"
   },
   "outputs": [],
   "source": [
    "df.isna().sum()"
   ]
  },
  {
   "cell_type": "markdown",
   "metadata": {
    "colab_type": "text",
    "id": "FQYVA-J5MCUG"
   },
   "source": [
    "# Task 3: EDA (Exploratory data analysis)\n",
    "\n",
    "In statistics, exploratory data analysis is an approach to analyzing data sets to summarize their main characteristics."
   ]
  },
  {
   "cell_type": "markdown",
   "metadata": {
    "colab_type": "text",
    "id": "XJ0CD6ZiOpRI"
   },
   "source": [
    "## 3.1 Number of movies/users"
   ]
  },
  {
   "cell_type": "code",
   "execution_count": null,
   "metadata": {
    "colab": {
     "base_uri": "https://localhost:8080/",
     "height": 50
    },
    "colab_type": "code",
    "id": "vnEIeAO6Psj2",
    "outputId": "1a125e7d-588c-4a40-bddd-72cce464cfbb"
   },
   "outputs": [],
   "source": [
    "n_movies = df[\"movieId\"].nunique() \n",
    "n_users = df[\"userId\"].nunique() \n",
    "\n",
    "print(f'Number of movies: {n_movies}')\n",
    "print(f'Number of users: {n_users}')"
   ]
  },
  {
   "cell_type": "markdown",
   "metadata": {
    "colab_type": "text",
    "id": "dclqP0iXOo_F"
   },
   "source": [
    "## 3.2 Sparsity of our data\n",
    "\n",
    "Sparsity (%) = `(No of missing values/ (Total Values))X100`"
   ]
  },
  {
   "cell_type": "code",
   "execution_count": null,
   "metadata": {
    "colab": {
     "base_uri": "https://localhost:8080/",
     "height": 50
    },
    "colab_type": "code",
    "id": "xPYF0zlfREMK",
    "outputId": "736f8d3b-44e0-40c6-9649-6ee326566c35"
   },
   "outputs": [],
   "source": [
    "available_ratings = df['rating'].count()\n",
    "total_ratings = n_movies * n_users\n",
    "missing_ratings = total_ratings - available_ratings\n",
    "sparsity = (missing_ratings/total_ratings)*100\n",
    "print(available_ratings, total_ratings, missing_ratings)\n",
    "print(f'{sparsity}%')"
   ]
  },
  {
   "cell_type": "markdown",
   "metadata": {
    "colab_type": "text",
    "id": "kcYDLtG5Ok_p"
   },
   "source": [
    "## 3.3 Ratings Distribution"
   ]
  },
  {
   "cell_type": "code",
   "execution_count": null,
   "metadata": {
    "colab": {
     "base_uri": "https://localhost:8080/",
     "height": 288
    },
    "colab_type": "code",
    "id": "ZO7Mv-jdL4_z",
    "outputId": "10fe8037-c46a-4c2c-d362-1042f052cbca"
   },
   "outputs": [],
   "source": [
    "df['rating'].value_counts().plot(kind='bar')"
   ]
  },
  {
   "cell_type": "markdown",
   "metadata": {
    "colab_type": "text",
    "id": "xdLsIItxSd9K"
   },
   "source": [
    "# Task 4: Dimensionality Reduction\n",
    "\n",
    "To reduce the dimensionality of the dataset, we will filter out rarely rated movies and rarely rating users"
   ]
  },
  {
   "cell_type": "markdown",
   "metadata": {
    "colab_type": "text",
    "id": "i3jYt3m5TNVL"
   },
   "source": [
    "## 4.1 Filter movies with less than 3 ratings"
   ]
  },
  {
   "cell_type": "code",
   "execution_count": null,
   "metadata": {
    "colab": {},
    "colab_type": "code",
    "id": "msZU9YSxSeUo"
   },
   "outputs": [],
   "source": [
    "min_ratings = 3\n",
    "filter_movies = df['movieId'].value_counts() > min_ratings\n",
    "filter_movies = filter_movies[filter_movies].index.tolist()"
   ]
  },
  {
   "cell_type": "markdown",
   "metadata": {
    "colab_type": "text",
    "id": "IYaMxlXcTdGS"
   },
   "source": [
    "## 4.2 Filter users with less than 3 movies rated"
   ]
  },
  {
   "cell_type": "code",
   "execution_count": null,
   "metadata": {
    "colab": {},
    "colab_type": "code",
    "id": "WPeNAggIS-Y_"
   },
   "outputs": [],
   "source": [
    "min_user_ratings = 3\n",
    "filter_users = df['userId'].value_counts() > min_user_ratings\n",
    "filter_users = filter_users[filter_users].index.tolist()"
   ]
  },
  {
   "cell_type": "markdown",
   "metadata": {
    "colab_type": "text",
    "id": "c2LFIAGXT3ro"
   },
   "source": [
    "## 4.3 Remove rarely rated movies and rarely rating users"
   ]
  },
  {
   "cell_type": "code",
   "execution_count": null,
   "metadata": {
    "colab": {
     "base_uri": "https://localhost:8080/",
     "height": 50
    },
    "colab_type": "code",
    "id": "tTUG4ao6S_x7",
    "outputId": "0d080569-959b-4796-eaaf-9a08a83aebff"
   },
   "outputs": [],
   "source": [
    "print('The original data frame shape:\\t{}'.format(df.shape))\n",
    "df = df[(df['movieId'].isin(filter_movies)) & (df['userId'].isin(filter_users))]\n",
    "print('The new data frame shape:\\t{}'.format(df.shape))"
   ]
  },
  {
   "cell_type": "markdown",
   "metadata": {
    "colab_type": "text",
    "id": "TbviZWiPM3jQ"
   },
   "source": [
    "# Task 5: Create Training and Test Sets"
   ]
  },
  {
   "cell_type": "markdown",
   "metadata": {
    "colab_type": "text",
    "id": "TIK2L0VuhbgA"
   },
   "source": [
    "## 5.1 Columns used for training"
   ]
  },
  {
   "cell_type": "code",
   "execution_count": null,
   "metadata": {
    "colab": {},
    "colab_type": "code",
    "id": "bXF4dmJKhF7q"
   },
   "outputs": [],
   "source": [
    "cols = ['userId', 'movieId', 'rating']"
   ]
  },
  {
   "cell_type": "markdown",
   "metadata": {
    "colab_type": "text",
    "id": "J8rylnJmUjYk"
   },
   "source": [
    "## 5.2 Create surprise dataset"
   ]
  },
  {
   "cell_type": "code",
   "execution_count": null,
   "metadata": {
    "colab": {},
    "colab_type": "code",
    "id": "4UOTMUssM6Tw"
   },
   "outputs": [],
   "source": [
    "reader = Reader(rating_scale=(0.5, 5))\n",
    "data = Dataset.load_from_df(df[cols], reader)"
   ]
  },
  {
   "cell_type": "markdown",
   "metadata": {
    "colab_type": "text",
    "id": "8lM--CdvguDz"
   },
   "source": [
    "## 5.3 Create Train-set and Prediction-set"
   ]
  },
  {
   "cell_type": "code",
   "execution_count": null,
   "metadata": {
    "colab": {},
    "colab_type": "code",
    "id": "heITVvtvU1FD"
   },
   "outputs": [],
   "source": [
    "trainset = data.build_full_trainset()\n",
    "antiset = trainset.build_anti_testset()"
   ]
  },
  {
   "cell_type": "markdown",
   "metadata": {
    "colab_type": "text",
    "id": "AYfhHDReuO5h"
   },
   "source": [
    "# Task 6: Creating and training the model"
   ]
  },
  {
   "cell_type": "markdown",
   "metadata": {
    "colab_type": "text",
    "id": "R4e28tFHubv9"
   },
   "source": [
    "## 6.1 Creating the model\n",
    "\n",
    "**SVD (Singular Value Decomposition)**\n",
    "\n",
    "Interaction Matrix = A X B X C"
   ]
  },
  {
   "cell_type": "code",
   "execution_count": null,
   "metadata": {
    "colab": {},
    "colab_type": "code",
    "id": "Ft4rS3L-hqeS"
   },
   "outputs": [],
   "source": [
    "algo = SVD(n_epochs = 25, verbose = True)"
   ]
  },
  {
   "cell_type": "markdown",
   "metadata": {
    "colab_type": "text",
    "id": "h_16sRpXwahF"
   },
   "source": [
    "## 6.2 Training the model\n",
    "\n",
    "**Mean Absolute Error (MAE)**: MAE measures the average magnitude of the errors in a set of predictions, without considering their direction. \n",
    "\n",
    "**Root mean squared error (RMSE)**:  RMSE is the square root of the average of squared differences between prediction and actual observation."
   ]
  },
  {
   "cell_type": "code",
   "execution_count": null,
   "metadata": {
    "colab": {
     "base_uri": "https://localhost:8080/",
     "height": 1000
    },
    "colab_type": "code",
    "id": "nh-E5DS5wYe_",
    "outputId": "9dccb553-93af-4b24-c180-f85905ef4245"
   },
   "outputs": [],
   "source": [
    "cross_validate(algo, data, measures=['RMSE', 'MAE'], cv=5, verbose = True)\n",
    "print('>> Training Done')"
   ]
  },
  {
   "cell_type": "markdown",
   "metadata": {
    "colab_type": "text",
    "id": "zTnqbNt_xkKS"
   },
   "source": [
    "# Task 7: Predictions"
   ]
  },
  {
   "cell_type": "markdown",
   "metadata": {
    "colab_type": "text",
    "id": "ma3oQr1Ax_Hg"
   },
   "source": [
    "## 7.1 Predict ratings for all pairs (user, items) that are NOT in the training set."
   ]
  },
  {
   "cell_type": "code",
   "execution_count": null,
   "metadata": {
    "colab": {},
    "colab_type": "code",
    "id": "_K3EmIs3wxhW"
   },
   "outputs": [],
   "source": [
    "predictions = algo.test(antiset)"
   ]
  },
  {
   "cell_type": "code",
   "execution_count": null,
   "metadata": {
    "colab": {
     "base_uri": "https://localhost:8080/",
     "height": 34
    },
    "colab_type": "code",
    "id": "RkqiEwM9z4Jf",
    "outputId": "e58e8df5-17e0-428b-8256-732fed73c65d"
   },
   "outputs": [],
   "source": [
    "predictions[0]"
   ]
  },
  {
   "cell_type": "markdown",
   "metadata": {
    "colab_type": "text",
    "id": "lRmzGn63ze8b"
   },
   "source": [
    "## 7.2 Recommending top 3 movies movies based on predictions"
   ]
  },
  {
   "cell_type": "code",
   "execution_count": null,
   "metadata": {
    "colab": {
     "base_uri": "https://localhost:8080/",
     "height": 1000
    },
    "colab_type": "code",
    "id": "q3Ugauv0119g",
    "outputId": "c1f22100-5f61-43fa-a663-0a15e1f555ff"
   },
   "outputs": [],
   "source": [
    "from collections import defaultdict\n",
    "def get_top_n(predictions, n):\n",
    "    # First map the predictions to each user.\n",
    "    top_n = defaultdict(list)\n",
    "    for uid, iid, true_r, est, _ in predictions:\n",
    "        top_n[uid].append((iid, est))\n",
    "\n",
    "    # Then sort the predictions for each user and retrieve the n highest ones.\n",
    "    for uid, user_ratings in top_n.items():\n",
    "        user_ratings.sort(key=lambda x: x[1], reverse=True)\n",
    "        top_n[uid] = user_ratings[:n]\n",
    "\n",
    "    return top_n\n",
    "top_n = get_top_n(predictions, n=3)\n",
    "for uid, user_ratings in top_n.items():\n",
    "    print(uid, [iid for (iid, rating) in user_ratings])"
   ]
  }
 ],
 "metadata": {
  "colab": {
   "collapsed_sections": [],
   "name": "Movies Recommendation Engine - Coursera [Completed]",
   "provenance": [],
   "toc_visible": true
  },
  "kernelspec": {
   "display_name": "Python 3",
   "language": "python",
   "name": "python3"
  },
  "language_info": {
   "codemirror_mode": {
    "name": "ipython",
    "version": 3
   },
   "file_extension": ".py",
   "mimetype": "text/x-python",
   "name": "python",
   "nbconvert_exporter": "python",
   "pygments_lexer": "ipython3",
   "version": "3.7.9"
  }
 },
 "nbformat": 4,
 "nbformat_minor": 1
}
